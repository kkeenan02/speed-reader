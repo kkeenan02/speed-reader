{
 "cells": [
  {
   "cell_type": "code",
   "execution_count": 1,
   "metadata": {},
   "outputs": [],
   "source": [
    "import os\n",
    "from dotenv import load_dotenv\n",
    "import openai\n",
    "import PyPDF2"
   ]
  },
  {
   "cell_type": "code",
   "execution_count": 2,
   "metadata": {},
   "outputs": [],
   "source": [
    "load_dotenv()\n",
    "\n",
    "API_KEY = os.getenv('OPENAI_API_KEY')\n",
    "\n",
    "openai.api_key = API_KEY"
   ]
  },
  {
   "cell_type": "code",
   "execution_count": null,
   "metadata": {},
   "outputs": [],
   "source": [
    "# Create a dataset using GPT\n",
    "model_engine = \"gpt-4-1106-preview\"\n",
    "prompt = \"\"\"\n",
    "What was the first paper to use parameter efficient adapters for language model tasks?\n",
    "\"\"\"\n",
    "\n",
    "completion = openai.ChatCompletion.create(\n",
    "    engine=model_engine,\n",
    "    prompt=prompt,\n",
    "    max_tokens=1024,\n",
    "    n=1,\n",
    "    stop=None,\n",
    "    temperature=0.5,\n",
    ")\n",
    "\n",
    "completion.choices[0].text"
   ]
  },
  {
   "cell_type": "code",
   "execution_count": 5,
   "metadata": {},
   "outputs": [
    {
     "name": "stdout",
     "output_type": "stream",
     "text": [
      "Page 0 length: 5485\n",
      "Page 0 summarised!\n",
      "Page 1 length: 6297\n",
      "Page 1 summarised!\n",
      "Page 2 length: 6353\n",
      "Page 2 summarised!\n",
      "Page 3 length: 6782\n",
      "Page 3 summarised!\n",
      "Page 4 length: 5307\n",
      "Page 4 summarised!\n",
      "Page 5 length: 6232\n",
      "Page 5 summarised!\n",
      "Page 6 length: 5884\n",
      "Page 6 summarised!\n",
      "Page 7 length: 5694\n",
      "Page 7 summarised!\n",
      "Page 8 length: 5067\n",
      "Page 8 summarised!\n"
     ]
    }
   ],
   "source": [
    "pdf_summary_text = list()\n",
    "pdf_file_path = \"/Users/kevinkeenan/Developer/llm-book/chatgpt-assist/papers/rag_eval.pdf\"\n",
    "\n",
    "with open(pdf_file_path, \"rb\") as pdf_file:\n",
    "    pdf_reader = PyPDF2.PdfReader(pdf_file)\n",
    "    for page_num in range(len(pdf_reader.pages)):\n",
    "        text = pdf_reader.pages[page_num].extract_text().lower()\n",
    "        print(f'Page {page_num} length: {len(text)}')\n",
    "\n",
    "        response = openai.ChatCompletion.create(\n",
    "            model = \"gpt-4-1106-preview\",\n",
    "            messages = [\n",
    "                {\n",
    "                    'role': 'system',\n",
    "                    'content': 'You are a helpful research assistant, and you are tasked with summarising research papers as concisely as possible.'\n",
    "                },\n",
    "                {\n",
    "                    'role': 'user',\n",
    "                    'content': f'Summarise this text to key highlights and return it in formatted markdown: {text}'\n",
    "                }\n",
    "            ]\n",
    "        )\n",
    "        summary = response['choices'][0]['message']['content']\n",
    "        pdf_summary_text.append(summary)\n",
    "        print(f'Page {page_num} summarised!')\n",
    "\n",
    "with open(\"papers/rag_eval.md\", \"w\") as fl:\n",
    "    fl.write(\"\\n\\n\".join(pdf_summary_text))\n"
   ]
  },
  {
   "cell_type": "code",
   "execution_count": null,
   "metadata": {},
   "outputs": [],
   "source": [
    "pdf_summary_text = list()\n",
    "pdf_file_path = \"/Users/kevinkeenan/Developer/llm-book/chatgpt-assist/papers/instruction_tuning_section.pdf\"\n",
    "\n",
    "with open(pdf_file_path, \"rb\") as pdf_file:\n",
    "    pdf_reader = PyPDF2.PdfReader(pdf_file)\n",
    "    all_text = \"\\n\".join([pdf_reader.pages[i].extract_text().lower() for i in range(len(pdf_reader.pages))])\n",
    "\n",
    "all_text"
   ]
  },
  {
   "cell_type": "code",
   "execution_count": 8,
   "metadata": {},
   "outputs": [
    {
     "name": "stdout",
     "output_type": "stream",
     "text": [
      "Paper length: 13550\n"
     ]
    }
   ],
   "source": [
    "pdf_summary_text = list()\n",
    "pdf_file_path = \"/Users/kevinkeenan/Developer/llm-book/chatgpt-assist/papers/instruction_tuning_section.pdf\"\n",
    "\n",
    "with open(pdf_file_path, \"rb\") as pdf_file:\n",
    "    pdf_reader = PyPDF2.PdfReader(pdf_file)\n",
    "    all_text = \"\\n\".join([pdf_reader.pages[i].extract_text().lower() for i in range(len(pdf_reader.pages))])\n",
    "\n",
    "    print(f'Paper length: {len(all_text)}')\n",
    "\n",
    "    response = openai.ChatCompletion.create(\n",
    "            model = \"gpt-4-1106-preview\",\n",
    "            messages = [\n",
    "                {\n",
    "                    'role': 'system',\n",
    "                    'content': 'You are a helpful research assistant, and you are tasked with summarising research papers as concisely as possible.'\n",
    "                },\n",
    "                {\n",
    "                    'role': 'user',\n",
    "                    'content': f'Summarise this text to key highlights and return it in formatted markdown: {all_text}'\n",
    "                }\n",
    "            ]\n",
    "        )\n",
    "    summary = response['choices'][0]['message']['content']\n",
    "    pdf_summary_text.append(summary)\n",
    "    # print(f'Page {page_num} summarised!')\n",
    "\n",
    "with open(\"papers/instruction_tuning_summary.md\", \"w\") as fl:\n",
    "    fl.write(\"\\n\\n\".join(pdf_summary_text))"
   ]
  },
  {
   "cell_type": "code",
   "execution_count": null,
   "metadata": {},
   "outputs": [],
   "source": [
    "# Importing Image from PIL package  \n",
    "from PIL import Image \n",
    "\n",
    "# creating a image object \n",
    "im = Image.open(\"/Users/kevinkeenan/Desktop/Screenshot 2023-11-21 at 12.03.25.png\") \n",
    "px = im.load() \n",
    "print (px[4, 4]) \n",
    "px[4, 4] = (0, 0, 0) \n",
    "print (px[4, 4]) \n",
    "cordinate = x, y = 150, 59\n",
    "\n",
    "# using getpixel method \n",
    "print (im.getpixel(cordinate))\n",
    "\n",
    "# now plot it\n",
    "import matplotlib.pyplot as plt\n",
    "plt.plot(px[x,y])\n",
    "plt.ylabel('some numbers')\n",
    "plt.show()"
   ]
  },
  {
   "cell_type": "code",
   "execution_count": null,
   "metadata": {},
   "outputs": [],
   "source": []
  }
 ],
 "metadata": {
  "kernelspec": {
   "display_name": "chatgpt",
   "language": "python",
   "name": "python3"
  },
  "language_info": {
   "codemirror_mode": {
    "name": "ipython",
    "version": 3
   },
   "file_extension": ".py",
   "mimetype": "text/x-python",
   "name": "python",
   "nbconvert_exporter": "python",
   "pygments_lexer": "ipython3",
   "version": "3.10.13"
  },
  "orig_nbformat": 4
 },
 "nbformat": 4,
 "nbformat_minor": 2
}
