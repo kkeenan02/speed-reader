{
 "cells": [
  {
   "cell_type": "code",
   "execution_count": 1,
   "metadata": {},
   "outputs": [],
   "source": [
    "import os\n",
    "from dotenv import load_dotenv\n",
    "import openai\n",
    "import PyPDF2"
   ]
  },
  {
   "cell_type": "code",
   "execution_count": 2,
   "metadata": {},
   "outputs": [],
   "source": [
    "load_dotenv()\n",
    "\n",
    "API_KEY = os.getenv('OPENAI_API_KEY')\n",
    "\n",
    "openai.api_key = API_KEY"
   ]
  },
  {
   "cell_type": "code",
   "execution_count": 3,
   "metadata": {},
   "outputs": [
    {
     "ename": "InvalidRequestError",
     "evalue": "Invalid URL (POST /v1/engines/gpt-4-1106-preview/chat/completions)",
     "output_type": "error",
     "traceback": [
      "\u001b[0;31m---------------------------------------------------------------------------\u001b[0m",
      "\u001b[0;31mInvalidRequestError\u001b[0m                       Traceback (most recent call last)",
      "\u001b[1;32m/Users/kevinkeenan/Developer/llm-book/chatgpt-assist/chatgpt-helper.ipynb Cell 3\u001b[0m line \u001b[0;36m7\n\u001b[1;32m      <a href='vscode-notebook-cell:/Users/kevinkeenan/Developer/llm-book/chatgpt-assist/chatgpt-helper.ipynb#W2sZmlsZQ%3D%3D?line=1'>2</a>\u001b[0m model_engine \u001b[39m=\u001b[39m \u001b[39m\"\u001b[39m\u001b[39mgpt-4-1106-preview\u001b[39m\u001b[39m\"\u001b[39m\n\u001b[1;32m      <a href='vscode-notebook-cell:/Users/kevinkeenan/Developer/llm-book/chatgpt-assist/chatgpt-helper.ipynb#W2sZmlsZQ%3D%3D?line=2'>3</a>\u001b[0m prompt \u001b[39m=\u001b[39m \u001b[39m\"\"\"\u001b[39m\n\u001b[1;32m      <a href='vscode-notebook-cell:/Users/kevinkeenan/Developer/llm-book/chatgpt-assist/chatgpt-helper.ipynb#W2sZmlsZQ%3D%3D?line=3'>4</a>\u001b[0m \u001b[39mWhat was the first paper to use parameter efficient adapters for language model tasks?\u001b[39m\n\u001b[1;32m      <a href='vscode-notebook-cell:/Users/kevinkeenan/Developer/llm-book/chatgpt-assist/chatgpt-helper.ipynb#W2sZmlsZQ%3D%3D?line=4'>5</a>\u001b[0m \u001b[39m\"\"\"\u001b[39m\n\u001b[0;32m----> <a href='vscode-notebook-cell:/Users/kevinkeenan/Developer/llm-book/chatgpt-assist/chatgpt-helper.ipynb#W2sZmlsZQ%3D%3D?line=6'>7</a>\u001b[0m completion \u001b[39m=\u001b[39m openai\u001b[39m.\u001b[39;49mChatCompletion\u001b[39m.\u001b[39;49mcreate(\n\u001b[1;32m      <a href='vscode-notebook-cell:/Users/kevinkeenan/Developer/llm-book/chatgpt-assist/chatgpt-helper.ipynb#W2sZmlsZQ%3D%3D?line=7'>8</a>\u001b[0m     engine\u001b[39m=\u001b[39;49mmodel_engine,\n\u001b[1;32m      <a href='vscode-notebook-cell:/Users/kevinkeenan/Developer/llm-book/chatgpt-assist/chatgpt-helper.ipynb#W2sZmlsZQ%3D%3D?line=8'>9</a>\u001b[0m     prompt\u001b[39m=\u001b[39;49mprompt,\n\u001b[1;32m     <a href='vscode-notebook-cell:/Users/kevinkeenan/Developer/llm-book/chatgpt-assist/chatgpt-helper.ipynb#W2sZmlsZQ%3D%3D?line=9'>10</a>\u001b[0m     max_tokens\u001b[39m=\u001b[39;49m\u001b[39m1024\u001b[39;49m,\n\u001b[1;32m     <a href='vscode-notebook-cell:/Users/kevinkeenan/Developer/llm-book/chatgpt-assist/chatgpt-helper.ipynb#W2sZmlsZQ%3D%3D?line=10'>11</a>\u001b[0m     n\u001b[39m=\u001b[39;49m\u001b[39m1\u001b[39;49m,\n\u001b[1;32m     <a href='vscode-notebook-cell:/Users/kevinkeenan/Developer/llm-book/chatgpt-assist/chatgpt-helper.ipynb#W2sZmlsZQ%3D%3D?line=11'>12</a>\u001b[0m     stop\u001b[39m=\u001b[39;49m\u001b[39mNone\u001b[39;49;00m,\n\u001b[1;32m     <a href='vscode-notebook-cell:/Users/kevinkeenan/Developer/llm-book/chatgpt-assist/chatgpt-helper.ipynb#W2sZmlsZQ%3D%3D?line=12'>13</a>\u001b[0m     temperature\u001b[39m=\u001b[39;49m\u001b[39m0.5\u001b[39;49m,\n\u001b[1;32m     <a href='vscode-notebook-cell:/Users/kevinkeenan/Developer/llm-book/chatgpt-assist/chatgpt-helper.ipynb#W2sZmlsZQ%3D%3D?line=13'>14</a>\u001b[0m )\n\u001b[1;32m     <a href='vscode-notebook-cell:/Users/kevinkeenan/Developer/llm-book/chatgpt-assist/chatgpt-helper.ipynb#W2sZmlsZQ%3D%3D?line=15'>16</a>\u001b[0m completion\u001b[39m.\u001b[39mchoices[\u001b[39m0\u001b[39m]\u001b[39m.\u001b[39mtext\n",
      "File \u001b[0;32m/usr/local/Caskroom/miniconda/base/envs/chatgpt/lib/python3.10/site-packages/openai/api_resources/chat_completion.py:25\u001b[0m, in \u001b[0;36mChatCompletion.create\u001b[0;34m(cls, *args, **kwargs)\u001b[0m\n\u001b[1;32m     23\u001b[0m \u001b[39mwhile\u001b[39;00m \u001b[39mTrue\u001b[39;00m:\n\u001b[1;32m     24\u001b[0m     \u001b[39mtry\u001b[39;00m:\n\u001b[0;32m---> 25\u001b[0m         \u001b[39mreturn\u001b[39;00m \u001b[39msuper\u001b[39;49m()\u001b[39m.\u001b[39;49mcreate(\u001b[39m*\u001b[39;49margs, \u001b[39m*\u001b[39;49m\u001b[39m*\u001b[39;49mkwargs)\n\u001b[1;32m     26\u001b[0m     \u001b[39mexcept\u001b[39;00m TryAgain \u001b[39mas\u001b[39;00m e:\n\u001b[1;32m     27\u001b[0m         \u001b[39mif\u001b[39;00m timeout \u001b[39mis\u001b[39;00m \u001b[39mnot\u001b[39;00m \u001b[39mNone\u001b[39;00m \u001b[39mand\u001b[39;00m time\u001b[39m.\u001b[39mtime() \u001b[39m>\u001b[39m start \u001b[39m+\u001b[39m timeout:\n",
      "File \u001b[0;32m/usr/local/Caskroom/miniconda/base/envs/chatgpt/lib/python3.10/site-packages/openai/api_resources/abstract/engine_api_resource.py:155\u001b[0m, in \u001b[0;36mEngineAPIResource.create\u001b[0;34m(cls, api_key, api_base, api_type, request_id, api_version, organization, **params)\u001b[0m\n\u001b[1;32m    129\u001b[0m \u001b[39m@classmethod\u001b[39m\n\u001b[1;32m    130\u001b[0m \u001b[39mdef\u001b[39;00m \u001b[39mcreate\u001b[39m(\n\u001b[1;32m    131\u001b[0m     \u001b[39mcls\u001b[39m,\n\u001b[0;32m   (...)\u001b[0m\n\u001b[1;32m    138\u001b[0m     \u001b[39m*\u001b[39m\u001b[39m*\u001b[39mparams,\n\u001b[1;32m    139\u001b[0m ):\n\u001b[1;32m    140\u001b[0m     (\n\u001b[1;32m    141\u001b[0m         deployment_id,\n\u001b[1;32m    142\u001b[0m         engine,\n\u001b[0;32m   (...)\u001b[0m\n\u001b[1;32m    152\u001b[0m         api_key, api_base, api_type, api_version, organization, \u001b[39m*\u001b[39m\u001b[39m*\u001b[39mparams\n\u001b[1;32m    153\u001b[0m     )\n\u001b[0;32m--> 155\u001b[0m     response, _, api_key \u001b[39m=\u001b[39m requestor\u001b[39m.\u001b[39;49mrequest(\n\u001b[1;32m    156\u001b[0m         \u001b[39m\"\u001b[39;49m\u001b[39mpost\u001b[39;49m\u001b[39m\"\u001b[39;49m,\n\u001b[1;32m    157\u001b[0m         url,\n\u001b[1;32m    158\u001b[0m         params\u001b[39m=\u001b[39;49mparams,\n\u001b[1;32m    159\u001b[0m         headers\u001b[39m=\u001b[39;49mheaders,\n\u001b[1;32m    160\u001b[0m         stream\u001b[39m=\u001b[39;49mstream,\n\u001b[1;32m    161\u001b[0m         request_id\u001b[39m=\u001b[39;49mrequest_id,\n\u001b[1;32m    162\u001b[0m         request_timeout\u001b[39m=\u001b[39;49mrequest_timeout,\n\u001b[1;32m    163\u001b[0m     )\n\u001b[1;32m    165\u001b[0m     \u001b[39mif\u001b[39;00m stream:\n\u001b[1;32m    166\u001b[0m         \u001b[39m# must be an iterator\u001b[39;00m\n\u001b[1;32m    167\u001b[0m         \u001b[39massert\u001b[39;00m \u001b[39mnot\u001b[39;00m \u001b[39misinstance\u001b[39m(response, OpenAIResponse)\n",
      "File \u001b[0;32m/usr/local/Caskroom/miniconda/base/envs/chatgpt/lib/python3.10/site-packages/openai/api_requestor.py:299\u001b[0m, in \u001b[0;36mAPIRequestor.request\u001b[0;34m(self, method, url, params, headers, files, stream, request_id, request_timeout)\u001b[0m\n\u001b[1;32m    278\u001b[0m \u001b[39mdef\u001b[39;00m \u001b[39mrequest\u001b[39m(\n\u001b[1;32m    279\u001b[0m     \u001b[39mself\u001b[39m,\n\u001b[1;32m    280\u001b[0m     method,\n\u001b[0;32m   (...)\u001b[0m\n\u001b[1;32m    287\u001b[0m     request_timeout: Optional[Union[\u001b[39mfloat\u001b[39m, Tuple[\u001b[39mfloat\u001b[39m, \u001b[39mfloat\u001b[39m]]] \u001b[39m=\u001b[39m \u001b[39mNone\u001b[39;00m,\n\u001b[1;32m    288\u001b[0m ) \u001b[39m-\u001b[39m\u001b[39m>\u001b[39m Tuple[Union[OpenAIResponse, Iterator[OpenAIResponse]], \u001b[39mbool\u001b[39m, \u001b[39mstr\u001b[39m]:\n\u001b[1;32m    289\u001b[0m     result \u001b[39m=\u001b[39m \u001b[39mself\u001b[39m\u001b[39m.\u001b[39mrequest_raw(\n\u001b[1;32m    290\u001b[0m         method\u001b[39m.\u001b[39mlower(),\n\u001b[1;32m    291\u001b[0m         url,\n\u001b[0;32m   (...)\u001b[0m\n\u001b[1;32m    297\u001b[0m         request_timeout\u001b[39m=\u001b[39mrequest_timeout,\n\u001b[1;32m    298\u001b[0m     )\n\u001b[0;32m--> 299\u001b[0m     resp, got_stream \u001b[39m=\u001b[39m \u001b[39mself\u001b[39;49m\u001b[39m.\u001b[39;49m_interpret_response(result, stream)\n\u001b[1;32m    300\u001b[0m     \u001b[39mreturn\u001b[39;00m resp, got_stream, \u001b[39mself\u001b[39m\u001b[39m.\u001b[39mapi_key\n",
      "File \u001b[0;32m/usr/local/Caskroom/miniconda/base/envs/chatgpt/lib/python3.10/site-packages/openai/api_requestor.py:710\u001b[0m, in \u001b[0;36mAPIRequestor._interpret_response\u001b[0;34m(self, result, stream)\u001b[0m\n\u001b[1;32m    702\u001b[0m     \u001b[39mreturn\u001b[39;00m (\n\u001b[1;32m    703\u001b[0m         \u001b[39mself\u001b[39m\u001b[39m.\u001b[39m_interpret_response_line(\n\u001b[1;32m    704\u001b[0m             line, result\u001b[39m.\u001b[39mstatus_code, result\u001b[39m.\u001b[39mheaders, stream\u001b[39m=\u001b[39m\u001b[39mTrue\u001b[39;00m\n\u001b[1;32m    705\u001b[0m         )\n\u001b[1;32m    706\u001b[0m         \u001b[39mfor\u001b[39;00m line \u001b[39min\u001b[39;00m parse_stream(result\u001b[39m.\u001b[39miter_lines())\n\u001b[1;32m    707\u001b[0m     ), \u001b[39mTrue\u001b[39;00m\n\u001b[1;32m    708\u001b[0m \u001b[39melse\u001b[39;00m:\n\u001b[1;32m    709\u001b[0m     \u001b[39mreturn\u001b[39;00m (\n\u001b[0;32m--> 710\u001b[0m         \u001b[39mself\u001b[39;49m\u001b[39m.\u001b[39;49m_interpret_response_line(\n\u001b[1;32m    711\u001b[0m             result\u001b[39m.\u001b[39;49mcontent\u001b[39m.\u001b[39;49mdecode(\u001b[39m\"\u001b[39;49m\u001b[39mutf-8\u001b[39;49m\u001b[39m\"\u001b[39;49m),\n\u001b[1;32m    712\u001b[0m             result\u001b[39m.\u001b[39;49mstatus_code,\n\u001b[1;32m    713\u001b[0m             result\u001b[39m.\u001b[39;49mheaders,\n\u001b[1;32m    714\u001b[0m             stream\u001b[39m=\u001b[39;49m\u001b[39mFalse\u001b[39;49;00m,\n\u001b[1;32m    715\u001b[0m         ),\n\u001b[1;32m    716\u001b[0m         \u001b[39mFalse\u001b[39;00m,\n\u001b[1;32m    717\u001b[0m     )\n",
      "File \u001b[0;32m/usr/local/Caskroom/miniconda/base/envs/chatgpt/lib/python3.10/site-packages/openai/api_requestor.py:775\u001b[0m, in \u001b[0;36mAPIRequestor._interpret_response_line\u001b[0;34m(self, rbody, rcode, rheaders, stream)\u001b[0m\n\u001b[1;32m    773\u001b[0m stream_error \u001b[39m=\u001b[39m stream \u001b[39mand\u001b[39;00m \u001b[39m\"\u001b[39m\u001b[39merror\u001b[39m\u001b[39m\"\u001b[39m \u001b[39min\u001b[39;00m resp\u001b[39m.\u001b[39mdata\n\u001b[1;32m    774\u001b[0m \u001b[39mif\u001b[39;00m stream_error \u001b[39mor\u001b[39;00m \u001b[39mnot\u001b[39;00m \u001b[39m200\u001b[39m \u001b[39m<\u001b[39m\u001b[39m=\u001b[39m rcode \u001b[39m<\u001b[39m \u001b[39m300\u001b[39m:\n\u001b[0;32m--> 775\u001b[0m     \u001b[39mraise\u001b[39;00m \u001b[39mself\u001b[39m\u001b[39m.\u001b[39mhandle_error_response(\n\u001b[1;32m    776\u001b[0m         rbody, rcode, resp\u001b[39m.\u001b[39mdata, rheaders, stream_error\u001b[39m=\u001b[39mstream_error\n\u001b[1;32m    777\u001b[0m     )\n\u001b[1;32m    778\u001b[0m \u001b[39mreturn\u001b[39;00m resp\n",
      "\u001b[0;31mInvalidRequestError\u001b[0m: Invalid URL (POST /v1/engines/gpt-4-1106-preview/chat/completions)"
     ]
    }
   ],
   "source": [
    "# Create a dataset using GPT\n",
    "model_engine = \"gpt-4-1106-preview\"\n",
    "prompt = \"\"\"\n",
    "What was the first paper to use parameter efficient adapters for language model tasks?\n",
    "\"\"\"\n",
    "\n",
    "completion = openai.ChatCompletion.create(\n",
    "    engine=model_engine,\n",
    "    prompt=prompt,\n",
    "    max_tokens=1024,\n",
    "    n=1,\n",
    "    stop=None,\n",
    "    temperature=0.5,\n",
    ")\n",
    "\n",
    "completion.choices[0].text"
   ]
  },
  {
   "cell_type": "code",
   "execution_count": 5,
   "metadata": {},
   "outputs": [
    {
     "name": "stdout",
     "output_type": "stream",
     "text": [
      "Page 0 length: 5485\n",
      "Page 0 summarised!\n",
      "Page 1 length: 6297\n",
      "Page 1 summarised!\n",
      "Page 2 length: 6353\n",
      "Page 2 summarised!\n",
      "Page 3 length: 6782\n",
      "Page 3 summarised!\n",
      "Page 4 length: 5307\n",
      "Page 4 summarised!\n",
      "Page 5 length: 6232\n",
      "Page 5 summarised!\n",
      "Page 6 length: 5884\n",
      "Page 6 summarised!\n",
      "Page 7 length: 5694\n",
      "Page 7 summarised!\n",
      "Page 8 length: 5067\n",
      "Page 8 summarised!\n"
     ]
    }
   ],
   "source": [
    "pdf_summary_text = list()\n",
    "pdf_file_path = \"/Users/kevinkeenan/Developer/llm-book/chatgpt-assist/papers/rag_eval.pdf\"\n",
    "\n",
    "with open(pdf_file_path, \"rb\") as pdf_file:\n",
    "    pdf_reader = PyPDF2.PdfReader(pdf_file)\n",
    "    for page_num in range(len(pdf_reader.pages)):\n",
    "        text = pdf_reader.pages[page_num].extract_text().lower()\n",
    "        print(f'Page {page_num} length: {len(text)}')\n",
    "\n",
    "        response = openai.ChatCompletion.create(\n",
    "            model = \"gpt-4-1106-preview\",\n",
    "            messages = [\n",
    "                {\n",
    "                    'role': 'system',\n",
    "                    'content': 'You are a helpful research assistant, and you are tasked with summarising research papers as concisely as possible.'\n",
    "                },\n",
    "                {\n",
    "                    'role': 'user',\n",
    "                    'content': f'Summarise this text to key highlights and return it in formatted markdown: {text}'\n",
    "                }\n",
    "            ]\n",
    "        )\n",
    "        summary = response['choices'][0]['message']['content']\n",
    "        pdf_summary_text.append(summary)\n",
    "        print(f'Page {page_num} summarised!')\n",
    "\n",
    "with open(\"papers/rag_eval.md\", \"w\") as fl:\n",
    "    fl.write(\"\\n\\n\".join(pdf_summary_text))\n"
   ]
  },
  {
   "cell_type": "code",
   "execution_count": null,
   "metadata": {},
   "outputs": [],
   "source": [
    "pdf_summary_text = list()\n",
    "pdf_file_path = \"/Users/kevinkeenan/Developer/llm-book/chatgpt-assist/papers/instruction_tuning_section.pdf\"\n",
    "\n",
    "with open(pdf_file_path, \"rb\") as pdf_file:\n",
    "    pdf_reader = PyPDF2.PdfReader(pdf_file)\n",
    "    all_text = \"\\n\".join([pdf_reader.pages[i].extract_text().lower() for i in range(len(pdf_reader.pages))])\n",
    "\n",
    "all_text"
   ]
  },
  {
   "cell_type": "code",
   "execution_count": 8,
   "metadata": {},
   "outputs": [
    {
     "name": "stdout",
     "output_type": "stream",
     "text": [
      "Paper length: 13550\n"
     ]
    }
   ],
   "source": [
    "pdf_summary_text = list()\n",
    "pdf_file_path = \"/Users/kevinkeenan/Developer/llm-book/chatgpt-assist/papers/instruction_tuning_section.pdf\"\n",
    "\n",
    "with open(pdf_file_path, \"rb\") as pdf_file:\n",
    "    pdf_reader = PyPDF2.PdfReader(pdf_file)\n",
    "    all_text = \"\\n\".join([pdf_reader.pages[i].extract_text().lower() for i in range(len(pdf_reader.pages))])\n",
    "\n",
    "    print(f'Paper length: {len(all_text)}')\n",
    "\n",
    "    response = openai.ChatCompletion.create(\n",
    "            model = \"gpt-4-1106-preview\",\n",
    "            messages = [\n",
    "                {\n",
    "                    'role': 'system',\n",
    "                    'content': 'You are a helpful research assistant, and you are tasked with summarising research papers as concisely as possible.'\n",
    "                },\n",
    "                {\n",
    "                    'role': 'user',\n",
    "                    'content': f'Summarise this text to key highlights and return it in formatted markdown: {all_text}'\n",
    "                }\n",
    "            ]\n",
    "        )\n",
    "    summary = response['choices'][0]['message']['content']\n",
    "    pdf_summary_text.append(summary)\n",
    "    # print(f'Page {page_num} summarised!')\n",
    "\n",
    "with open(\"papers/instruction_tuning_summary.md\", \"w\") as fl:\n",
    "    fl.write(\"\\n\\n\".join(pdf_summary_text))"
   ]
  },
  {
   "cell_type": "code",
   "execution_count": 5,
   "metadata": {},
   "outputs": [
    {
     "data": {
      "text/plain": [
       "'4-3hmrsqtbshnmstmhm\\ue0410684-3\"mrsct4shnm-tmhm\\ue038hmbg;osdq2\\tvdhmsqnctbdcsgdbnmbdosne))l\\ue08emd,stmhm\\ue041sgqnt\\ue041grtodquhrdckd;qmhm\\ue041-sgda;rhboqnbdctqdhrsns;jd;k;adkdcc;s;rdsneptdrshnm.;mrvdqo;hqrqdoqdrdmshm\\ue041;\\ue041hudms;rj\\x05d-\\ue041-\\tm;stq;kk;m\\ue041t;\\ue041dhmedqdmbd(\\tcdudkno;oqnloshm\\ue041sdlok;sdsg;sbnmudqsrsgdptdrshnmrhmsnm;stq;kk;m\\ue041t;\\ue041dhmrsqtbshnmr\\t;mc\\ue08emd,stmdsgdlncdksnoqdchbssgd;mrvdqr-sghrldsgncnkn\\ue041xhrudqx\\ue041nnc;s;bbnlokhrg,hm\\ue041s;q\\ue041dsdcs;rjr-gnvdudq\\t\\ue030ns\\x1ebg;sansrkhjdbg;sf\\ue02ds;mc)k;l;,1;qdmnsitrsodqenql;ms;\\ue041;hmrs;rhm\\ue041kdoqnakdlsgdxvdqdsq;hmdcsnrnkud-sgdx;qdgh\\ue041gkxdw,sdmrhakd\\todqenqlhm\\ue041vdkknmu;qhntrrtaidbsrntsrhcdsgdhq\\ue08emd,stmhm\\ue041naidbshudr-gnvb;mlncdkradstmdcsnodqenql;bbtq;sdydqn,rgnss;rjrsg;sch\\x8ddqeqnlsgdhqsq;hmhm\\ue041c;s;\\x1cnmd;ooqn;bghrb;kkdc5:rs>t/s5n:st:5:3\\x05hs(-hmhs\\t;m))lhr\\ue08emd,stmdcvhsgptdrshnmr;mcs;q\\ue041ds;mrvdqrqdmcdqdchmgtl;mk;m\\ue041t;\\ue041d;mcro;mmhm\\ue041;vhcd;qq;xnem;stq;kk;m\\ue041t;\\ue041ds;rjr-sgdrdl;xhmbktcdqd;chm\\ue041bnloqdgdmrhnm\\trdmshldms;m;kxrhr\\tsq;mrk;shnm\\tbnllnmrdmrdqd;rnmhm\\ue041\\t;mclnqd-sgdrdsq;hmhm\\ue041rdsr;qdsq;mrenqldchmsnm;stq;kk;m\\ue041t;\\ue041dhmrsqtbshnmrtrhm\\ue041oqnlossdlok;sdr\\t;mcsgdlncdkhrstmdcsnoqdchbssgd;mrvdqo;hqdcvhsgd;bgsq;hmhm\\ue041hmots-stmhm\\ue041nbbtqrnm;snjdm,ax,snjdma;rhr\\x81rs;qshm\\ue041vhsgsgdetkkoqnlos\\tsgdlncdkhrstmdcsgqnt\\ue041ga;bj,oqno;\\ue041;shnmsnoqdchbssgd\\ue08eqrssnjdmnesgdqdronmrd-sgdm\\tvhsgsgdoqnlos;mcsgd\\ue08eqrssnjdm\\thshrsq;hmdcsnoqdchbssgdrdbnmcsnjdm\\tbnmshmthm\\ue041nmhmsghrv;x-\\ue02btldqntrrstchdr\\x05vdhds;k-1/10:ntx;m\\ue041ds;k-1/11:rdd7g;m\\ue041ds;k-1/12benq;bnloqdgdmrhudnudquhdv(g;udrgnvmsg;shmrsqtbshnm,stmdc))lrrgnvhloqnudcodqenql;mbdnm\\ue02b)\\ue02drs;rjrmnsdwonrdcsnsgdlncdkctqhm\\ue041\\ue08emd,stmhm\\ue041\\t;kknvhm\\ue041enqhloqdrrhudkdudkrne\\ue041dmdq;khy;shnm-\\neh\\ue041-4-89qdoqnctbdceqnlvdhds;k-\\x051/10(-hshrbknrdkxqdk;sdcsnsgd\\ue02dsesoqnbdctqdrchrbtrrdchmrdbshnm2-0-1;mcoqnlos,a;rdckd;qmhm\\ue041;mchmedqdmbdcds;hkdchmbg;osdqr2;mc3-sgdqdk;shnm,rghor;qdhkktrsq;sdchmeh\\ue041-4-8-\\ue02dsestrdrrtodquhrdc\\ue08emd,stmhm\\ue041vhsg;m))lsn;bbnlokhrg;rodbh\\ue08ebl;bghmdkd;qmhm\\ue041s;rjaxeddchm\\ue041hmhmots.ntsotso;hqrvhsg,ntsmddchm\\ue041;oqnlossdlok;sd-axbnmsq;rs\\thstrdrrtodquhrdc\\ue08emd,stmhm\\ue041snsq;hm;m))lsn;bbnlokhrgl;mxch\\x8ddqdmss;rjraxsdlok;shyhm\\ue041c;s;hmsnm;stq;kk;m,\\ue041t;\\ue041dhmots.ntsotso;hqr-sgqnt\\ue041gsghrrs;mc;qchy;shnmnehmotsrhmsnm;stq;kk;m,\\n07/4))lkd;qmhm\\ue041rsq;sd\\ue041hdr\\ue041t;\\ue041doqnlosr\\tsgdlncdkkd;qmrsnodqenqlsgds;rjr;mcbnqqdbskxhmsdqoqdssgdld;mhm\\ue041adghmchmrsqtbshnmrvqhssdmax;gtl;m-sghroqnbdctqdhrbqhshb;kenq;c,itrshm\\ue041;m;tsnqd\\ue041qdrrhud))leqnlhsrnaidbshudotqonrd\\x81oqdchbshm\\ue041sgdlnrskhjdkxmdwssnjdmhm;rsqhm\\ue041a;rdcnmsgdc;s;hsv;rsq;hmdcnm\\x81snsgdotqonrdcdrhqdcaxgtl;mr\\x81\\ue041huhm\\ue041trdetk;mc;bbtq;sdqdronmrdrsnhmrsqtbshnmr-4-3-\\x0b\"mrsct4shnmstmhm\\ue038c2s2hssq;hmhm\\ue041rdsrbnmrhrsneptdrshnm.;mrvdqo;hqr\\tdwoqdrrdc;rm;stq;kk;m\\ue041t;\\ue041dhm,rsqtbshnm;mc;cdrhqdcqdronmrd\\t;bqnrru;qhntr\\ue02b)\\ue02ds;rjr-qdrd;qbgdqrg;uds;jdmrdudq;k;ooqn;bgdrsn;rrdlakhm\\ue041sghrc;s;rdsrsxkd-sgdoqhl;qxu;qh;msr;qd0-sq;mrenqlhm\\ue041dwhrshm\\ue041\\ue02b)\\ue02dsq;hmhm\\ue041c;s;rdsrhmsnhsc;s;vhsgoqnlossdlok;sdr-1-bnkkdbshm\\ue041gtl;m,\\ue041dmdq;sdcoqnlosr;mc\\ue041dmdq;shm\\ue041;mrvdqraxg;mc-2-bnkkdbshm\\ue041gtl;m,\\ue041dmdq;sdcoqnlosr;mc\\ue041dmdq;shm\\ue041;mrvdqrtrhm\\ue041dwhrshm\\ue041))lr-eqdptdmskx\\trnldlhwstqdnesgdrdsgqdd;ooqn;bgdrhrdloknxdcsnbqd;sdu;qhdsx;mcdwo;mcsgdrhydnesgdsq;hmhm\\ue041rds-hmsghrrdbshnm\\tvdaqhd\\ue08fxcdrbqhadd;bgnesgdrd;ooqn;bgdr;mccdlnmrsq;sdgnvsgdxvnqj\\t;mc;uhrt;krtll;qxhrrgnvmhmeh\\ue041-4-0/-\\neh\\ue041-4-0/9\\ue02d)\\x1ebdgn)cdq\\n4-3hmrsqtbshnmstmhm\\ue0410704-3-\\x0b-\\x0b\"-vhsgsdlo=2shkdcc2s2rdsr\\x1emdmnqlntrvd;ksgne\\ue02b)\\ue02dc;s;rdsrhr;u;hk;akdnmrntqbdrkhjdgt\\ue041\\ue041hm\\ue041e;bd;mcsdmrnq\\ue08fnvc;s;rdsrsg;sb;madkdudq;\\ue041dcenqhs-sgdrdc;s;rdsr;qdudqxchudqrdhmrsqtbstqd;mcotqonrdats\\ue041dmdq;kkxg;udnmdnqlnqdhmotsr\\x05d-\\ue041-\\tptdrshnm\\tbnmsdws\\thmrsqtbshnmr(;mcnmdnqlnqdonsdmsh;ks;q\\ue041dsntsotsr\\x05onrrhakxq;mjdcaxoqdedq,dmbd(-\\ue030nld;qdcd\\ue08emhshudxdrnqmnptdrshnmr\\x05onrhshud.md\\ue041;shudrdmshldms(\\trnldhmunkuddwsq;bshm\\ue041hmenql;shnmeqnl;bnmsdwst;khyhm\\ue041o;q;\\ue041q;og\\x05nodm,annj\\ue02e\\x1e(\\t;mcrnld;qdlnqdnodm,dmcdcvhsgnts;rhm\\ue041kdbnqqdbs;mrvdq\\x05rtll;qhy;shnm\\tsq;mrk;shnm(-sgdvhcdu;qhdsxnes;rjr;mcsnohbroqnuhcdrdwo;mrhudbnudq;\\ue041dneqdkdu;ms\\ue02b)\\ue02ds;rjr;mcqdk;sdccnl;hmjmnvkdc\\ue041d-snkdudq;\\ue041dsgdrdc;s;enqhs\\tsdlok;sdr;qdbqd;sdcenqd;bgc;s;rdssnsq;mrenqlsgdleqnlsgdhqm;shudrsqtbstqdhmsnm;stq;kk;m\\ue041t;\\ue041dhmrsqtbshnmr;mc;s;q\\ue041ds;m,rvdq-enqdw;lokd\\tbnmrhcdq;\\ue041;hmsgdc;stlhmkhrshm\\ue041\\x18\\x18eqnlsgdbg;osdq\\x18\\x18stsnqh;k-d;bgdmsqxbnms;hmr;bnmsdwso;q;\\ue041q;og\\t;ptdrshnm;antssgdo;q;\\ue041q;og\\t;mc;xdrnqmn;mrvdq-1assa\\x1b\\x12c?k..$j\\x1datx.flad\\x12l\\x12,.? sas.*\\x1br\\x12c.rd\\x12dby\\x00m\\x12r ca*s *\\x1b\\x12rhs.*\\x1bwr t\\x12raayl.rrw \\x17t:r\\x12l\\x12as\\x12d.*\\x00f\\x1bfstd\\x19:dposby\\x04 \\x1blac\\x1d *\\x12:\\x12c.rdsast\\x1d\\x12l\\x12ads *\\x1bl\\x12\\x17r.m\\x1d\\x12rs wt\\x1dstfd .albfm:\\x121ftat .*pdpos()rw \\x17twr.t\\x12t\\x1d\\x12s.*\\x1bw t\\x1d\\x1d\\x12r1r.dfc\\x12riac$\\x00*t.*.\\x17\\x17))))qf\\x12st .*c?d dtayl.rsw \\x17twr t\\x12l..$w\\x1daty.fmad\\x12m\\x12d.?lab\\x12lcopy\\x12s()hrshm\\ue0414-09\\x18\\x1d&\\x16\\x13nn8\"dw;lokdvdb;msdlok;shydsghrvhsgnmdnesgdl;mxnoshnmrhmkhrshm\\ue041\\x18\\x18-s;jhm\\ue041noshnm3eqnlsghrs;akd\\tvdb;mbqd;sdsgdenkknvhm\\ue041ptdrshnm.;mrvdqo;hqenqhs9.f\\x12st .*c\\x0b.*t\\x12wtc?k..$j\\x1datx.flad\\x12l\\x12,.? sas.*\\x1br\\x12c.rd\\x12dby\\x00m\\x12r ca*s *\\x1b\\x12rhs.*\\x1bwr t\\x12raayl.rrw \\x17t:r\\x12l\\x12as\\x12d.*\\x00f\\x1bfstd\\x19:dposby\\x04 \\x1blac\\x1d *\\x12:\\x12c.rdsast\\x1d\\x12l\\x12ads *\\x1bl\\x12\\x17r.m\\x1d\\x12rs wt\\x1dstfd .albfm:\\x121ftat .*pdpos()rw \\x17twr.t\\x12t\\x1d\\x12s.*\\x1bw t\\x1d\\x1d\\x12r1r.dfc\\x12riac$\\x00*t.*.\\x17\\x17))))\\x04as\\x12d.*t\\x1d\\x12 *\\x17.rmat .* *t\\x1d s1ara\\x1bra1\\x1d:d dtayl.rsw \\x17twr t\\x12?l..$w\\x1daty.fmad\\x12m\\x12d.q?\\x00*sw\\x12rcy\\x12s)hrshm\\ue0414-19\\ue02etdrshnm;mc\\x1emrvdqdw;lokdctqhm\\ue041sq;hmhm\\ue041\\tsgdptdrshnmhro;rrdcsnsgdlncdk;rhmhsh;kbnmchshnmr\\t;mcsgdlncdkhr\\ue08emd,stmdcsnqdronmc’xdrbnqqdbskx“-\\ue02bnsdsg;ssgdqdhru;ktdhmtrhm\\ue041rdu,dq;kch\\x8ddqdmsoqnlossdlok;sdrenqd;bgc;s;rds-sghroqdudmsronrrhakdnudq,\\ue08esshm\\ue041nmsgdrodbh\\ue08ebvnqchm\\ue041ne;rhm\\ue041kdsdlok;sd;mcgdkorsndudmntsonsdmsh;kvd;j,mdrrdrne;mxhmchuhct;kbgnhbd-\\x1eoqnlhmdmsdw;lokdne;mhslncdkqdkxhm\\ue041oqhl;qhkxnmenql;sshm\\ue041dwhrshm\\ue041c;s;hre)\\x1e\\ue02b\\x05vdhds;k-\\t1/10(\\t;mhs;c;os;shnmnesgd);lc\\x1e))l\\x05sgnoohk;mds;k-\\t\\n0714))lkd;qmhm\\ue041rsq;sd\\ue041hdr1/11(-sgdrd;tsgnqrbnkkdbsdc51k;adkdc\\ue02b)\\ue02dsq;hmhm\\ue041c;s;rdsreqnlnodm,rntqbdc;s;a;rdr;mc\\ue041qntodcsgdlhmsn01b;sd\\ue041nqhdrqdk;shm\\ue041snsgds;rj-lnrsvdqdm;s,tq;kk;m\\ue041t;\\ue041dtmcdqrs;mchm\\ue041s;rjrkhjdqd;chm\\ue041bnloqdgdmrhnm;mcrdmshldms;m;k,xrhr\\tats;edvvdqd\\ue041dmdq;shnms;rjrrtbg;rl;bghmdsq;mrk;shnmr;mcrtll;qhy;,shnm-sgdxcdrh\\ue041mdcrdudq;ksdlok;sdrenqd;bgc;s;rds-sgdxsgdmsdrsdcsgd\\ue041dmdq,;khy;shnmb;o;ahkhshdrnehslncdkraxgnkchm\\ue041ntsrodbh\\ue08ebs;rjbktrsdqr;mcstmhm\\ue041nmsgdqdl;hmhm\\ue04100\\trbnqhm\\ue041sgdlncdka;rdcnmsgdodqenql;mbdnesgdgnkcntss;rj-sgdxcdlnmrsq;sdcrtars;msh;kodqenql;mbdhloqnudldmsbnlo;qdcsgdmnm,\\ue08emdstmdc);lc\\x1elncdk\\tdrodbh;kkxhmsq;mrk;shnm;mcbknrdc,annj\\ue02e\\x1es;rjr-e)\\x1e\\ue02b;krnntsodqenqldcrh\\ue041mh\\ue08eb;mskxk;q\\ue041dqmnm,hs))lrrtbg;rf\\ue02ds,2\\trgnvhm\\ue041sg;shshr;mdrrdmsh;koqnbdctqdenql;whlhyhm\\ue041odqenql;mbdqd\\ue041;qckdrrneo;q;ldsdqbntms-4-3-\\x0b-1\"-vhsggtl2m\\x07\\ue038dmdc2sdcr2lo=dr\\x1emnsgdq;ooqn;bghrsnbq;esnq;rrdlakd;rdqhdrnehmrsqtbshnms;rjr;mcg;udgt,l;mrvqhsd;mrvdqrenqsgdlncdksnsq;hmnm-vdqdedqsnsgdrd;rgtl;m,\\ue041dmdq;sdcr;lokdr-sghr;ooqn;bghradmd\\ue08ebh;kenqbnkkdbshm\\ue041c;s;enqm;stq;kk;m\\ue041t;\\ue041d\\ue041dmdq,;shnms;rjrenqvghbgsgdqdhrmnrodbh\\ue08ebbnqqdbs;mrvdq\\x05h-d-\\t“vqhsd;ondl;antsl;sg“(atsvgdqdrodbh\\ue08ebntsotsrvntkcadoqdedqqdcnudqnsgdqr-sq;hmhm\\ue041nmg;mc,vqhssdmsdwsrgdkor;sstmdsgdlncdksnv;qcrlnqdgtl;m,khjdroddbgo;ssdqmrhm;mrvdqhm\\ue041ptdrshnmr-sgdrh\\ue041mh\\ue08eb;mstorhcdnegtl;m,\\ue041dmdq;sdcr;lokdrhrsg;ssgdlncdk;qbghsdbsg;r\\ue08emdqbnmsqnknudqsgdptdrshnmsnohbr;mccds;hkrnesgd;mrvdqr-sgdnauhntrcnvmrhcdhrsg;sgtl;mk;adkhm\\ue041hrrknv;mcbnrskx\\trnsgdrhydneant,shptdgtl;m,\\ue041dmdq;sdcc;s;rdsrsdmcrsnadrl;kkdqsg;msgd;\\ue041\\ue041qd\\ue041;shnmnedwhrshm\\ue041rdsr-\\x1erh\\ue041mh\\ue08eb;mslncdkkdudq;\\ue041hm\\ue041gtl;m,\\ue041dmdq;sdcr;lokdrhrhmrsqtbsf\\ue02ds\\x05ntx;m\\ue041ds;k-\\t1/11(-sgdrd;tsgnqrbnkkdbsdcptdqhdro;rrdcsnsgdnodm\\x1eh\\x1e\\ue02dh;mc;ccdcrnldg;mc,vqhssdmptdrshnmrsnathkc;rdsnehmotsr-sgdxsgdmghqdc;sd;lnek;,adkdqrsnvqhsd;mrvdqrsnsgdrdptdqhdr\\tbnlokdshm\\ue041sgdhqc;s;rds-sgdcds;hkrnesgdhqsq;hmhm\\ue041ldsgncr;kh\\ue041mbknrdkxsnqd,dmenqbdldmskd;qmhm\\ue041vhsggtl;meddca;bj\\tvghbghrsgdrtaidbsnebg;osdq5-enqgdqd\\thshrhmsdqdrshm\\ue041snmnsdsg;s;esdqsq;hmhm\\ue041\\tk;adkdqrsdmcdcsnoqdedqsgdntsotsrnehmrsqtbsf\\ue02dsnudqsgnrdnee)\\x1e\\ue02b\\toqnctb,hm\\ue041;qnt\\ue041gkx62\\x03vhm,q;sdnudq;a;rdkhmdenqhmrsqtbsf\\ue02dsbnlo;qdcsn∼2.\\x03enqe)\\x1e\\ue02b-\\x1eksgnt\\ue041gsghrhro;qskx;bnmrdptdmbdnesgdsq;hmhm\\ue041sdbgmhptd\\ths;krnqd\\ue08fdbsrsg;sgtl;mrbqd;sdcsgd\\ue08emd,stmhm\\ue041ntsotsr\\x81sgdlncdkathksvhsgg;mc,bq;esdc;m,rvdqrv;rbknrdq;kh\\ue041mdcsngtl;moqdedqdmbdsg;m;lncdkbqd;sdcaxsdlok;shyhm\\ue041;gdsdqn\\ue041dmdntrbnkkdbshnmnec;s;rdsr-4-3-\\x0b-2\"-vhsg%%l\\x07\\ue038dmdc2sdcr2lo=dr\\x1e\\ue08em;k;ooqn;bghrsnathkcnts;c;s;rdsax\\ue041dmdq;shm\\ue041;mrvdqrsnptdqhdrvhsg;m))l-sghrb;madcnmdtrhm\\ue041sgdr;ldlncdkxnt;qdsq;hmhm\\ue041nqvhsg;mnsgdqlncdkvhsgoqnodqshdrxntvhrgsndltk;sdvhsgxntq\\ue08emd,stmhm\\ue041-sxohb;kkx\\t;trdqvntkc\\n4-3hmrsqtbshnmstmhm\\ue041072\\ue041dmdq;sdrdudq;k;mrvdqreqnlsgdlncdk;mc;ookxrnldpt;khsx\\ue08eksdq\\x05oqn\\ue041q;ll;shbnqax,g;mc(snrdkdbssgdadrsqdronmrdr-bnlo;qdcsngtl;m,\\ue041dmdq;sdc;mrvdqr\\tsghr;ooqn;bghrltbge;rsdq;mcbgd;odq\\tatssgdb;o;ahkhshdrnesgd))lkhlhssgdcnl;hmne;mrvdqr-sgdqdhr;krn;mnauhntrc;s;bnms;lhm;shnmhrrtdvgdm;mrvdqr;qdedchmsnsgdudqxlncdksg;soqnctbdcsgdlhmsgd\\ue08eqrsok;bd-b;msghrhlo;qsmdvhmenql;shnm\\x1chshrqd;rnm;akdsnvnmcdqhe;lncdkb;mkd;qm;mxsghm\\ue041axadhm\\ue041\\ue08emd,stmdcnmhsr\\ue041dmdq;sdcqdronmrdr-\\x1eok;trhakdeq;lhm\\ue041hrsg;ssgdlncdkb;mad\\ue08emd,stmdcsnnts,otssg;s;mrvdqlnqdqdkh;akxax\\ue041dmdq;shm\\ue041l;mx;mrvdqrsn;rhm\\ue041kdptdrshnm;mcohbjhm\\ue041sgdnmdnqsvnsg;sadrsqd\\ue08fdbsgtl;mitc\\ue041ldms;rsnvg;sbnmrshstsdr;\\ue041nnc;mrvdqsnsgdoqnlos-sgtr\\tdudmhexnt;qdmnsdwonrhm\\ue041hssnmdvhmenql;shnm\\t;rhmsgdb;rdnegtl;m,\\ue041dmdq;sdcstmhm\\ue041\\thsvhkkkd;qmcdrhq;akdsdmcdmbhdr-sndlohqhb;kkxsdrs;rhlhk;qhcd;v;m\\ue041ds;k-\\x051/12(cdudknodc\\ue030dke,hmrsqtbs\\t;mhsdq;shudannsrsq;oohm\\ue041eq;ldvnqjsg;ss;jdrhm;r;lokdnerddcs;rjr;knm\\ue041vhsgr;lokdhmotsr.ntsotsrenqd;bg;mctrdrf\\ue02ds,2sn\\ue041dmdq;sd;cchshnm;kptdqhdrhm,rohqdcaxsgdrddchmotsr-sgdrdptdqhdr;qdsgdmo;rrdchmsnf\\ue02ds,2;mco;hqdcvhsgsgdntsotssnathkc;mhsc;s;rds-sgd;tsgnqr;ookxrdudq;kpt;khsx\\ue08eksdqrsndmrtqdsgd;bbtq;bxnesgdchudqrhsxneqdronmrdr-\\ue032kshl;sdkx\\tsgdxrgnvsg;ssgdhqlncdkrrh\\ue041mh\\ue08eb;mskxntsodqenqlu;mhkk;f\\ue02ds,2hmm;stq;kk;m\\ue041t;\\ue041d\\ue041dmdq;shnms;rjr;mcnts,odqenql;mhmrsqtbshnm,stmdcu;qh;msnesgdrl;kkdqs4))l-sgnt\\ue041grkh\\ue041gskxvnqrdsg;mhmrsqtbsf\\ue02ds\\tsgdx;qdbnlodshshud\\tcdlnmrsq;shm\\ue041sgdrtodqhnqhsxnegtl;m,vqhssdm;mrvdqr\\x05sgnt\\ue041g;sbnmrhcdq;akxlnqdbnrs(-4-3-1\\x1aoo=h42shnmrnehmrsct4shnmstmhm\\ue038hmrsqtbshnmstmhm\\ue041g;radbnlddwsqdldkxonotk;qenq;c;oshm\\ue041k;q\\ue041dk;m\\ue041t;\\ue041dlncdkrenqu;qhntrcnl;hmr;mc;ookhb;shnmr-hmsdqlrnecnl;hm;c;os;shnmne);q\\ue041d);m,\\ue041t;\\ue041dlncdkrtrhm\\ue041hs\\tsgdqdg;udaddmu;qhntrhmsdqdrshm\\ue041hmmnu;shnmr-sgdrdbnudqcnl;hmrkhjdldchbhmd\\t\\ue08em;mbd\\t;mcdctb;shnm\\tenqvghbg;c;osdc))lrg;udaddmbqd;sdctrhm\\ue041hs-enqhmrs;mbd\\thmsgddctb;shnmcnl;hm7g;m\\ue041ds;k-qdkd;rdcvqhshm\\ue041,\\x1eko;b;\\t;mhsudqrhnmne));l\\x1e6a))l\\tvgdqdhmrsqtbshnmrvdqdenqvqhshm\\ue041s;rjr-sghrvnqjrh\\ue041mh\\ue08eb;mskxhloqnudcsgdentmc;shnm;klncdka;rdkhmd;mclncdkrstmdcvhsgkdrrs;rj,rodbh\\ue08ebc;s;rdsr-hmsgdcnl;hmneldchbhmd\\t)hds;k-hmsqnctbdcbg;scnbsnq\\tvghbg;\\ue041;hmhr;mhmrsqtbshnm,stmdcudqrhnmnesgd));l\\x1e6a))l-sghr))lrh\\ue041mh\\ue08eb;mskxhloqnudcodqenql;mbdhmtmcdqrs;mchm\\ue041o;shdmsch;kn\\ue041tdqd\\ue041;qchm\\ue041sgdhqrxlosnlr;mcoqnuhc,hm\\ue041qdkdu;ms;cuhbdnmsgnrdrxlosnlr-nsgdqhs))lrhmldchbhmdg;uds;q\\ue041dsdcdudmlnqdrodbh\\ue08ebchrbhokhmdr\\trtbg;rq;chnkn\\ue041x;mcnmbnkn\\ue041x-hm\\ue08em;mbd\\thmrsqtbshnm,stmdcudqrhnmrne))lrg;udaddmoqnonrdcenqu;qhntrs;rjr-hmrsqtbs,ehmf\\ue02dsv;rcdudknodcax7g;m\\ue041ds;k-\\t;rhsg;rrgnvmhloqdrrhudodqenql;mbdhm\\ue041dmdq;shm\\ue041cnl;hm,qdkdu;mshmrh\\ue041gsreqnlcnl;hmbnmsdms-\\ue030odbh\\ue08e,b;kkx\\thmrsqtbs,ehmf\\ue02dscdlnmrsq;sdradssdqg;mckhm\\ue041nemtldqhbdmshshdrhmbnmsdms\\t\\n0734))lkd;qmhm\\ue041rsq;sd\\ue041hdr\\ue08em;mbh;ki;q\\ue041nm;v;qdmdrr\\tdsb-\\ue030tbgcnl;hm,;v;qd;c;os;shnmrbnmshmtdsnhloqnud;mcvhkkoqnudhmu;kt;akdenqsgdetstqd;ookhb;shnmne))lr-4-4-tsnch2=\\x14ehmd\\x07stmhm\\ue038%%lrhm2cdrntc4d\\x074nmrsc2hmdcrdsshm\\ue0384-4-\\x0b(udcuhdvvdg;udbnudqdcrdudq;ko;q;ldsdq,d\\ue090bhdms\\ue08emd,stmhm\\ue041sdbgmhptdr;mcntskhmdcsvnl;inq;ooqn;bgdrsn\\ue08emd,stmhm\\ue041))lr9hmrsqtbshnm;mc;kh\\ue041mldmsstmhm\\ue041-sghrstsnqh;kvhkkkdudq;\\ue041d)nq\\x1e;mc\\ue02e)nq\\x1esnsq;hm))lrsn;bbnlokhrg;rodbh\\ue08ebhmrsqtbshnm,a;rdcs;rj-vghkdsghrhrmnsrsqhbskxhmrsqtbshnmstmhm\\ue041\\t;rvdenbtrnm;rhm\\ue041kds;rjhmrsd;cne;vhcdq;m\\ue041dnes;rjr\\tntqsdlok;shm\\ue041;ooqn;bgenkknvrsgdldsgncnkn\\ue041xnehmrsqtbshnmstmhm\\ue041-fn2=r\\x14”cdlnmrsq;sdsgd;cu;ms;\\ue041drneo;q;ldsdq,d\\ue090bhdms\\ue08emd,stmhm\\ue041hmsdqlrneansgldlnqxqdpthqdldmsr;mcqdrtkshm\\ue041ntsotspt;khsx-”dw;lhmdsgdqdk;shudb;o;ahkhshdrne;k;q\\ue041dq))l;mc;rb;kdc,cnvm))l-”hlokdldms;mdu;kt;shnmqtaqhbenq\\ue041dmdq;sdcsdwsntsotsr\\ttrhm\\ue041;lnqdrnoghrshb;sdc))l;rsgd\\ue041q;cdq-4-4-1dwodchldms2=\\x1ddrh\\ue038mhmsghrstsnqh;k\\tvdbqd;sd;m))lsg;sb;ms;jdhm;bnmudqr;shnmadsvddm;btrsnldq;mc;rdquhbd;\\ue041dms;mcqdstqm;rtll;qxnesgdr;khdmsonhmsr-sgdqdrtksrb;ostqdcgdqd;qda;rdcnmsgdodqenql;mbdne;fnn\\ue041kdbnk;ardrrhnmvhsg;05fa\\ue0330//f\\ue02d\\ue032-vdtrdsgdsvdds\\ue030\\ue032llc;s;rds\\x05edh\\ue041dmak;sds;k-\\t1/10(\\tbnmrhrshm\\ue041nea;bj,;mc,enqsgbnmudqr;shnmradsvddmbtrsnldqr;mcrdquhbd;\\ue041dmsreqnlu;qhntrbnlo;mhdrnmw-bnl\\x05enqldqkxsvhssdq(-\\ue02d;hqdcvhsgd;bgbnmudqr;shnm;qdg;mc,vqhssdmsvn,rdmsdmbdrtll;qhdrnesgdbnmudqr;shnm\\tmnshm\\ue041sgdbtrsnldq\\x84rqdptdrs;mcsgd;\\ue041dms\\x84rqdronmrd-hmlnrsb;rdr\\tsgdqd;qdltkshokdrtll;qhdrvqhssdmaxch\\x8ddqdms;mmns;snqr-sn;rrdrrsgdpt;khsxne))l,\\ue041dmdq;sdcrtll;qhdr\\tvddrs;akhrgsgqddbqhsdqh;sg;scd\\ue08emd;rtll;qxrbnqd-0-hrsgdcdrbqhoshnmnesgdbtrsnldq\\x84rptdrshnm.bnlok;hmsqd;rnm;akx;bbtq;sd\\x1c1-hrsgdcdrbqhoshnmnesgd;\\ue041dms\\x84rqdronmrdqd;rnm;akx;bbtq;sd\\x1c2-hrsgdrtll;qxsvnrdmsdmbdrhmkdm\\ue041sg\\x1c'"
      ]
     },
     "execution_count": 5,
     "metadata": {},
     "output_type": "execute_result"
    }
   ],
   "source": [
    "all_text"
   ]
  },
  {
   "cell_type": "code",
   "execution_count": null,
   "metadata": {},
   "outputs": [],
   "source": [
    "# Importing Image from PIL package  \n",
    "from PIL import Image \n",
    "\n",
    "# creating a image object \n",
    "im = Image.open(\"/Users/kevinkeenan/Desktop/Screenshot 2023-11-21 at 12.03.25.png\") \n",
    "px = im.load() \n",
    "print (px[4, 4]) \n",
    "px[4, 4] = (0, 0, 0) \n",
    "print (px[4, 4]) \n",
    "cordinate = x, y = 150, 59\n",
    "\n",
    "# using getpixel method \n",
    "print (im.getpixel(cordinate))\n",
    "\n",
    "# now plot it\n",
    "import matplotlib.pyplot as plt\n",
    "plt.plot(px[x,y])\n",
    "plt.ylabel('some numbers')\n",
    "plt.show()"
   ]
  },
  {
   "cell_type": "code",
   "execution_count": null,
   "metadata": {},
   "outputs": [],
   "source": []
  }
 ],
 "metadata": {
  "kernelspec": {
   "display_name": "chatgpt",
   "language": "python",
   "name": "python3"
  },
  "language_info": {
   "codemirror_mode": {
    "name": "ipython",
    "version": 3
   },
   "file_extension": ".py",
   "mimetype": "text/x-python",
   "name": "python",
   "nbconvert_exporter": "python",
   "pygments_lexer": "ipython3",
   "version": "3.10.13"
  },
  "orig_nbformat": 4
 },
 "nbformat": 4,
 "nbformat_minor": 2
}
